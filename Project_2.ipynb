{
  "nbformat": 4,
  "nbformat_minor": 0,
  "metadata": {
    "colab": {
      "name": "Project_2.ipynb",
      "provenance": [],
      "collapsed_sections": [],
      "authorship_tag": "ABX9TyNLjHmZZ6WUlWtdo61DFGK2",
      "include_colab_link": true
    },
    "kernelspec": {
      "name": "python3",
      "display_name": "Python 3"
    },
    "language_info": {
      "name": "python"
    }
  },
  "cells": [
    {
      "cell_type": "markdown",
      "metadata": {
        "id": "view-in-github",
        "colab_type": "text"
      },
      "source": [
        "<a href=\"https://colab.research.google.com/github/kcsai/datascience/blob/main/Project_2.ipynb\" target=\"_parent\"><img src=\"https://colab.research.google.com/assets/colab-badge.svg\" alt=\"Open In Colab\"/></a>"
      ]
    },
    {
      "cell_type": "markdown",
      "metadata": {
        "id": "3U_NCPyt-NhO"
      },
      "source": [
        "# Project Part # 2: CPSMA 3133 [Dr. Jacob's](https://github.com/nurfnick) Discrete Mathematics \n",
        "\n",
        "## Probability and Counting\n",
        "\n",
        "### Sailesh Kc\n"
      ]
    },
    {
      "cell_type": "markdown",
      "metadata": {
        "id": "gGdCJonm_Hw2"
      },
      "source": [
        "## 1 Probability\n",
        "Probability of getting first card Ace is 1/13. Probability of King is 1/13. Probability of neither is 11/13"
      ]
    },
    {
      "cell_type": "code",
      "metadata": {
        "colab": {
          "base_uri": "https://localhost:8080/"
        },
        "id": "0DcCs91X9_S6",
        "outputId": "ea2094ed-d5b2-4f7b-bdd5-54312eb443fa"
      },
      "source": [
        "p=[1/13,1/13, 11/13]\n",
        "sum(p)"
      ],
      "execution_count": 2,
      "outputs": [
        {
          "output_type": "execute_result",
          "data": {
            "text/plain": [
              "1.0"
            ]
          },
          "metadata": {},
          "execution_count": 2
        }
      ]
    },
    {
      "cell_type": "markdown",
      "metadata": {
        "id": "nz2RSBV_Aeaz"
      },
      "source": [
        "A compound event is getting either Ace or King. Lets call this draw $R$"
      ]
    },
    {
      "cell_type": "code",
      "metadata": {
        "id": "pPsG9_iT-Xcl",
        "colab": {
          "base_uri": "https://localhost:8080/"
        },
        "outputId": "67713917-8007-4bc4-8efa-5f5b2b6f054d"
      },
      "source": [
        "ProbabilityR = 0\n",
        "\n",
        "for i in [0,1]:\n",
        "  ProbabilityR += p[i]\n",
        "\n",
        "ProbabilityR"
      ],
      "execution_count": 9,
      "outputs": [
        {
          "output_type": "execute_result",
          "data": {
            "text/plain": [
              "0.15384615384615385"
            ]
          },
          "metadata": {},
          "execution_count": 9
        }
      ]
    },
    {
      "cell_type": "markdown",
      "metadata": {
        "id": "gp-pTnudkMZr"
      },
      "source": [
        "Probability of getting Ace and either Ace or King on two draws is\n",
        "\n",
        "$$P(A\\cap R)$$"
      ]
    },
    {
      "cell_type": "code",
      "metadata": {
        "colab": {
          "base_uri": "https://localhost:8080/"
        },
        "id": "9WAcI_HhkrWD",
        "outputId": "a1496514-d120-49e9-ecb1-86ef7182a3f9"
      },
      "source": [
        "intersection = p[0]*ProbabilityR\n",
        "intersection"
      ],
      "execution_count": 11,
      "outputs": [
        {
          "output_type": "execute_result",
          "data": {
            "text/plain": [
              "0.01183431952662722"
            ]
          },
          "metadata": {},
          "execution_count": 11
        }
      ]
    },
    {
      "cell_type": "markdown",
      "metadata": {
        "id": "jhg48Wg_C7Yj"
      },
      "source": [
        "Probability of getting Ace on second draw given you got Ace or King on First. $$\n",
        "P(A|R)=\\frac{P(A\\cap R)}{P(R)}\n",
        "$$"
      ]
    },
    {
      "cell_type": "code",
      "metadata": {
        "colab": {
          "base_uri": "https://localhost:8080/"
        },
        "id": "Gn4UEtnzDAuC",
        "outputId": "91b74108-584f-4361-818d-490ff3541c4b"
      },
      "source": [
        "RGA = intersection/ProbabilityR\n",
        "RGA"
      ],
      "execution_count": 14,
      "outputs": [
        {
          "output_type": "execute_result",
          "data": {
            "text/plain": [
              "0.07692307692307693"
            ]
          },
          "metadata": {},
          "execution_count": 14
        }
      ]
    },
    {
      "cell_type": "markdown",
      "metadata": {
        "id": "Ocu4ysCxmfXG"
      },
      "source": [
        "Probability of getting Ace or King on second draw given that you got Ace on first draw\n",
        "\n",
        "$$\n",
        "P(R|A)=\\frac{P(R\\cap A)}{P(A)}\n",
        "$$"
      ]
    },
    {
      "cell_type": "code",
      "metadata": {
        "colab": {
          "base_uri": "https://localhost:8080/"
        },
        "id": "__xZ-WDbh5ux",
        "outputId": "923ddfec-1c24-46d0-f8dd-f4c975003b03"
      },
      "source": [
        "AGR = intersection/p[0]\n",
        "AGR"
      ],
      "execution_count": 15,
      "outputs": [
        {
          "output_type": "execute_result",
          "data": {
            "text/plain": [
              "0.15384615384615385"
            ]
          },
          "metadata": {},
          "execution_count": 15
        }
      ]
    },
    {
      "cell_type": "markdown",
      "metadata": {
        "id": "tsSXktMFrm9r"
      },
      "source": [
        "Applying Baye's\n",
        "\n",
        "$$\n",
        "P(A|R) = \\frac{P(A)P(R|A)}{P(R)}\n",
        "$$"
      ]
    },
    {
      "cell_type": "code",
      "metadata": {
        "colab": {
          "base_uri": "https://localhost:8080/"
        },
        "id": "5eoUOHEnr4-X",
        "outputId": "743a186f-cf30-4ad2-af2d-6d8896b3f414"
      },
      "source": [
        "RGA == (p[0] * AGR)/ProbabilityR"
      ],
      "execution_count": 16,
      "outputs": [
        {
          "output_type": "execute_result",
          "data": {
            "text/plain": [
              "True"
            ]
          },
          "metadata": {},
          "execution_count": 16
        }
      ]
    },
    {
      "cell_type": "markdown",
      "metadata": {
        "id": "-4Mca_tTDjl0"
      },
      "source": [
        "Simulation. I will be computing the frequency counts so I will be multiplying by 13."
      ]
    },
    {
      "cell_type": "code",
      "metadata": {
        "colab": {
          "base_uri": "https://localhost:8080/"
        },
        "id": "hO6cjCZPE1k4",
        "outputId": "1e637f2b-3d8b-4854-b643-fd6889877d8c"
      },
      "source": [
        "p13 = [13*i for i in p]\n",
        "p13"
      ],
      "execution_count": 17,
      "outputs": [
        {
          "output_type": "execute_result",
          "data": {
            "text/plain": [
              "[1.0, 1.0, 11.0]"
            ]
          },
          "metadata": {},
          "execution_count": 17
        }
      ]
    },
    {
      "cell_type": "markdown",
      "metadata": {
        "id": "CcnwZfaPteRJ"
      },
      "source": [
        "I will be using random library and simulate 10 draws to see if the probability closely matches the random draws."
      ]
    },
    {
      "cell_type": "code",
      "metadata": {
        "colab": {
          "base_uri": "https://localhost:8080/"
        },
        "id": "CaMuord2FEPh",
        "outputId": "93f498ba-53eb-4b32-e8f9-4866696f42dc"
      },
      "source": [
        "from random import choices\n",
        "\n",
        "\n",
        "draw = choices(['Ace','King','Other'],p13,k=10)\n",
        "print(draw)\n",
        "\n",
        "countAce = 0;\n",
        "countKing = 0;\n",
        "countOthers = 0;\n",
        "\n",
        "for i in draw:\n",
        "  if i == 'Ace':\n",
        "    countAce += 1\n",
        "  if i == 'King':\n",
        "    countKing += 1\n",
        "  if i == 'Other':\n",
        "    countOthers += 1\n",
        "\n",
        "estimateProb = [countAce/len(draw), countKing/len(draw), countOthers/len(draw)]\n",
        "estimateProb"
      ],
      "execution_count": 18,
      "outputs": [
        {
          "output_type": "stream",
          "name": "stdout",
          "text": [
            "['Other', 'Other', 'Other', 'Ace', 'Other', 'Ace', 'King', 'King', 'Ace', 'Other']\n"
          ]
        },
        {
          "output_type": "execute_result",
          "data": {
            "text/plain": [
              "[0.3, 0.2, 0.5]"
            ]
          },
          "metadata": {},
          "execution_count": 18
        }
      ]
    },
    {
      "cell_type": "markdown",
      "metadata": {
        "id": "yE5BoLemtzl4"
      },
      "source": [
        "Based on the simulation we can see the random draws closely matches the probablity."
      ]
    },
    {
      "cell_type": "markdown",
      "metadata": {
        "id": "AQOjxDL_HI7P"
      },
      "source": [
        "##2. Counting"
      ]
    },
    {
      "cell_type": "markdown",
      "metadata": {
        "id": "_i4_gnZJ2r3T"
      },
      "source": [
        "There are three options in the sequence of ten. Therefore there are $3^{10}$ options with replacement."
      ]
    },
    {
      "cell_type": "code",
      "metadata": {
        "colab": {
          "base_uri": "https://localhost:8080/"
        },
        "id": "fOw9oPNe29UU",
        "outputId": "d8a5e8b5-bbc4-488f-89a7-0a5fa571d284"
      },
      "source": [
        "3**10"
      ],
      "execution_count": 20,
      "outputs": [
        {
          "output_type": "execute_result",
          "data": {
            "text/plain": [
              "59049"
            ]
          },
          "metadata": {},
          "execution_count": 20
        }
      ]
    },
    {
      "cell_type": "markdown",
      "metadata": {
        "id": "D4GzUjSpxvvc"
      },
      "source": [
        "We have 10 spaces to fill three categories. Since the space is greater than the category we wil have to repeat the categories. We can use pigeanhole pricinple for this where m is the number space and n is the number of categories.\n",
        "\n",
        "$$\n",
        "\\frac{(n+m−1)!}{n!(m−1)!}\n",
        "$$\n"
      ]
    },
    {
      "cell_type": "code",
      "metadata": {
        "colab": {
          "base_uri": "https://localhost:8080/"
        },
        "id": "53rdSM4uHKfW",
        "outputId": "d12f67fc-1e99-4bac-e7c8-8bde950eced5"
      },
      "source": [
        "import math\n",
        "\n",
        "math.factorial(12)/(math.factorial(3)*math.factorial(9))"
      ],
      "execution_count": 23,
      "outputs": [
        {
          "output_type": "execute_result",
          "data": {
            "text/plain": [
              "220.0"
            ]
          },
          "metadata": {},
          "execution_count": 23
        }
      ]
    },
    {
      "cell_type": "markdown",
      "metadata": {
        "id": "Vi4OjPU-DkCU"
      },
      "source": [
        "If not allowed to repeat the categories we cannot fill the 10 spaces. We can only have 3 spaces maximum for 3 categories. \n",
        "\n",
        "If order matters we use $3!$\n",
        "\n",
        "If order doesn't matter we use \n",
        "\n",
        "$nCm = \\frac{3!}{0!.3!}$"
      ]
    },
    {
      "cell_type": "code",
      "metadata": {
        "colab": {
          "base_uri": "https://localhost:8080/"
        },
        "id": "18WP8bOWBtlr",
        "outputId": "a055f2fe-48ae-4c69-f0fb-05e45fca7be5"
      },
      "source": [
        "math.factorial(3)"
      ],
      "execution_count": 24,
      "outputs": [
        {
          "output_type": "execute_result",
          "data": {
            "text/plain": [
              "6"
            ]
          },
          "metadata": {},
          "execution_count": 24
        }
      ]
    },
    {
      "cell_type": "code",
      "metadata": {
        "colab": {
          "base_uri": "https://localhost:8080/"
        },
        "id": "SozhIeP1FMSF",
        "outputId": "d111d27e-8de0-4c72-910b-d08c64083186"
      },
      "source": [
        "math.factorial(3)/(math.factorial(0)*math.factorial(3))"
      ],
      "execution_count": 25,
      "outputs": [
        {
          "output_type": "execute_result",
          "data": {
            "text/plain": [
              "1.0"
            ]
          },
          "metadata": {},
          "execution_count": 25
        }
      ]
    },
    {
      "cell_type": "markdown",
      "metadata": {
        "id": "STY0rrKPG5RM"
      },
      "source": [
        "We can find the 5th term of polynomial \n",
        "$(x+2)^9$\n",
        "\n",
        "$$\n",
        "T{r+1} = nCrx^{n-r}y^r\n",
        "$$\n",
        "\n",
        "$$\n",
        "T{4+1} = 9C4x^{5}2^4\n",
        "$$\n",
        "\n"
      ]
    },
    {
      "cell_type": "code",
      "metadata": {
        "colab": {
          "base_uri": "https://localhost:8080/"
        },
        "id": "PlSkn__VJBy4",
        "outputId": "0e14483a-67a9-4f40-8cc9-bbc6712f430d"
      },
      "source": [
        "(math.factorial(9)/(math.factorial(5)*math.factorial(4)))*(2**4)"
      ],
      "execution_count": 33,
      "outputs": [
        {
          "output_type": "execute_result",
          "data": {
            "text/plain": [
              "2016.0"
            ]
          },
          "metadata": {},
          "execution_count": 33
        }
      ]
    },
    {
      "cell_type": "markdown",
      "metadata": {
        "id": "OJj1cG2KMPj9"
      },
      "source": [
        "The fith term is $$2016x^5$$"
      ]
    }
  ]
}